{
 "cells": [
  {
   "cell_type": "markdown",
   "id": "bdbffde9",
   "metadata": {},
   "source": [
    "# Philippine Presidential Race 2022 Prediction\n",
    "## Facial Feature Based\n",
    "The main objective of the project is to connect seemingly..."
   ]
  },
  {
   "cell_type": "code",
   "execution_count": 1,
   "id": "3dfef0d2",
   "metadata": {},
   "outputs": [],
   "source": [
    "#import\n",
    "import numpy as np\n",
    "import pandas as pd\n",
    "import matplotlib.pyplot as plt\n",
    "import seaborn as sns\n",
    "from imblearn.over_sampling import SMOTE\n",
    "from sklearn.model_selection import train_test_split\n",
    "from sklearn.tree import DecisionTreeClassifier\n",
    "from sklearn.ensemble import RandomForestClassifier\n",
    "from sklearn.preprocessing import MinMaxScaler, StandardScaler\n",
    "from sklearn.pipeline import Pipeline\n",
    "from sklearn.neighbors import KNeighborsClassifier\n",
    "from sklearn.metrics import (classification_report, confusion_matrix, \n",
    "                    accuracy_score,f1_score, precision_score, recall_score)"
   ]
  },
  {
   "cell_type": "code",
   "execution_count": 2,
   "id": "a88b56ff",
   "metadata": {
    "scrolled": false
   },
   "outputs": [
    {
     "data": {
      "text/html": [
       "<div>\n",
       "<style scoped>\n",
       "    .dataframe tbody tr th:only-of-type {\n",
       "        vertical-align: middle;\n",
       "    }\n",
       "\n",
       "    .dataframe tbody tr th {\n",
       "        vertical-align: top;\n",
       "    }\n",
       "\n",
       "    .dataframe thead th {\n",
       "        text-align: right;\n",
       "    }\n",
       "</style>\n",
       "<table border=\"1\" class=\"dataframe\">\n",
       "  <thead>\n",
       "    <tr style=\"text-align: right;\">\n",
       "      <th></th>\n",
       "      <th>Left Brow Solidity</th>\n",
       "      <th>Right Brow Solidity</th>\n",
       "      <th>Left Eye Eccentricity</th>\n",
       "      <th>Right Eye Eccentricity</th>\n",
       "      <th>Nose Solidity</th>\n",
       "      <th>Mouth Eccentricity</th>\n",
       "      <th>Jawline Solidity</th>\n",
       "      <th>Target</th>\n",
       "    </tr>\n",
       "  </thead>\n",
       "  <tbody>\n",
       "    <tr>\n",
       "      <th>0</th>\n",
       "      <td>0.943729</td>\n",
       "      <td>0.950178</td>\n",
       "      <td>0.968172</td>\n",
       "      <td>0.968897</td>\n",
       "      <td>0.747776</td>\n",
       "      <td>0.970832</td>\n",
       "      <td>0.993939</td>\n",
       "      <td>0.0</td>\n",
       "    </tr>\n",
       "    <tr>\n",
       "      <th>1</th>\n",
       "      <td>0.952281</td>\n",
       "      <td>0.950768</td>\n",
       "      <td>0.979336</td>\n",
       "      <td>0.978043</td>\n",
       "      <td>0.634295</td>\n",
       "      <td>0.939898</td>\n",
       "      <td>0.993999</td>\n",
       "      <td>0.0</td>\n",
       "    </tr>\n",
       "    <tr>\n",
       "      <th>2</th>\n",
       "      <td>0.942395</td>\n",
       "      <td>0.950756</td>\n",
       "      <td>0.981485</td>\n",
       "      <td>0.979080</td>\n",
       "      <td>0.689418</td>\n",
       "      <td>0.979536</td>\n",
       "      <td>0.993871</td>\n",
       "      <td>0.0</td>\n",
       "    </tr>\n",
       "    <tr>\n",
       "      <th>3</th>\n",
       "      <td>0.934495</td>\n",
       "      <td>0.947331</td>\n",
       "      <td>0.970957</td>\n",
       "      <td>0.964015</td>\n",
       "      <td>0.574785</td>\n",
       "      <td>0.921601</td>\n",
       "      <td>0.994196</td>\n",
       "      <td>0.0</td>\n",
       "    </tr>\n",
       "    <tr>\n",
       "      <th>4</th>\n",
       "      <td>0.959522</td>\n",
       "      <td>0.952125</td>\n",
       "      <td>0.955476</td>\n",
       "      <td>0.955192</td>\n",
       "      <td>0.591652</td>\n",
       "      <td>0.969192</td>\n",
       "      <td>0.994240</td>\n",
       "      <td>0.0</td>\n",
       "    </tr>\n",
       "    <tr>\n",
       "      <th>...</th>\n",
       "      <td>...</td>\n",
       "      <td>...</td>\n",
       "      <td>...</td>\n",
       "      <td>...</td>\n",
       "      <td>...</td>\n",
       "      <td>...</td>\n",
       "      <td>...</td>\n",
       "      <td>...</td>\n",
       "    </tr>\n",
       "    <tr>\n",
       "      <th>159</th>\n",
       "      <td>0.946150</td>\n",
       "      <td>0.949383</td>\n",
       "      <td>0.902869</td>\n",
       "      <td>0.883445</td>\n",
       "      <td>0.573174</td>\n",
       "      <td>0.931218</td>\n",
       "      <td>0.993837</td>\n",
       "      <td>NaN</td>\n",
       "    </tr>\n",
       "    <tr>\n",
       "      <th>160</th>\n",
       "      <td>0.938807</td>\n",
       "      <td>0.935676</td>\n",
       "      <td>0.957719</td>\n",
       "      <td>0.966944</td>\n",
       "      <td>0.799055</td>\n",
       "      <td>0.933396</td>\n",
       "      <td>0.993509</td>\n",
       "      <td>NaN</td>\n",
       "    </tr>\n",
       "    <tr>\n",
       "      <th>161</th>\n",
       "      <td>0.945864</td>\n",
       "      <td>0.952742</td>\n",
       "      <td>0.913217</td>\n",
       "      <td>0.925900</td>\n",
       "      <td>0.639064</td>\n",
       "      <td>0.936268</td>\n",
       "      <td>0.993534</td>\n",
       "      <td>NaN</td>\n",
       "    </tr>\n",
       "    <tr>\n",
       "      <th>162</th>\n",
       "      <td>0.947332</td>\n",
       "      <td>0.943137</td>\n",
       "      <td>0.941831</td>\n",
       "      <td>0.955273</td>\n",
       "      <td>0.623164</td>\n",
       "      <td>0.933462</td>\n",
       "      <td>0.992902</td>\n",
       "      <td>NaN</td>\n",
       "    </tr>\n",
       "    <tr>\n",
       "      <th>163</th>\n",
       "      <td>0.948925</td>\n",
       "      <td>0.946099</td>\n",
       "      <td>0.907683</td>\n",
       "      <td>0.912236</td>\n",
       "      <td>0.652855</td>\n",
       "      <td>0.922589</td>\n",
       "      <td>0.996144</td>\n",
       "      <td>NaN</td>\n",
       "    </tr>\n",
       "  </tbody>\n",
       "</table>\n",
       "<p>164 rows × 8 columns</p>\n",
       "</div>"
      ],
      "text/plain": [
       "     Left Brow Solidity  Right Brow Solidity  Left Eye Eccentricity  \\\n",
       "0              0.943729             0.950178               0.968172   \n",
       "1              0.952281             0.950768               0.979336   \n",
       "2              0.942395             0.950756               0.981485   \n",
       "3              0.934495             0.947331               0.970957   \n",
       "4              0.959522             0.952125               0.955476   \n",
       "..                  ...                  ...                    ...   \n",
       "159            0.946150             0.949383               0.902869   \n",
       "160            0.938807             0.935676               0.957719   \n",
       "161            0.945864             0.952742               0.913217   \n",
       "162            0.947332             0.943137               0.941831   \n",
       "163            0.948925             0.946099               0.907683   \n",
       "\n",
       "     Right Eye Eccentricity  Nose Solidity  Mouth Eccentricity  \\\n",
       "0                  0.968897       0.747776            0.970832   \n",
       "1                  0.978043       0.634295            0.939898   \n",
       "2                  0.979080       0.689418            0.979536   \n",
       "3                  0.964015       0.574785            0.921601   \n",
       "4                  0.955192       0.591652            0.969192   \n",
       "..                      ...            ...                 ...   \n",
       "159                0.883445       0.573174            0.931218   \n",
       "160                0.966944       0.799055            0.933396   \n",
       "161                0.925900       0.639064            0.936268   \n",
       "162                0.955273       0.623164            0.933462   \n",
       "163                0.912236       0.652855            0.922589   \n",
       "\n",
       "     Jawline Solidity  Target  \n",
       "0            0.993939     0.0  \n",
       "1            0.993999     0.0  \n",
       "2            0.993871     0.0  \n",
       "3            0.994196     0.0  \n",
       "4            0.994240     0.0  \n",
       "..                ...     ...  \n",
       "159          0.993837     NaN  \n",
       "160          0.993509     NaN  \n",
       "161          0.993534     NaN  \n",
       "162          0.992902     NaN  \n",
       "163          0.996144     NaN  \n",
       "\n",
       "[164 rows x 8 columns]"
      ]
     },
     "execution_count": 2,
     "metadata": {},
     "output_type": "execute_result"
    }
   ],
   "source": [
    "#importing data\n",
    "df = pd.read_excel(\"prestest.xlsx\")\n",
    "df"
   ]
  },
  {
   "cell_type": "code",
   "execution_count": 3,
   "id": "d2da8803",
   "metadata": {
    "scrolled": false
   },
   "outputs": [
    {
     "data": {
      "text/html": [
       "<div>\n",
       "<style scoped>\n",
       "    .dataframe tbody tr th:only-of-type {\n",
       "        vertical-align: middle;\n",
       "    }\n",
       "\n",
       "    .dataframe tbody tr th {\n",
       "        vertical-align: top;\n",
       "    }\n",
       "\n",
       "    .dataframe thead th {\n",
       "        text-align: right;\n",
       "    }\n",
       "</style>\n",
       "<table border=\"1\" class=\"dataframe\">\n",
       "  <thead>\n",
       "    <tr style=\"text-align: right;\">\n",
       "      <th></th>\n",
       "      <th>0</th>\n",
       "      <th>1</th>\n",
       "      <th>2</th>\n",
       "      <th>3</th>\n",
       "      <th>4</th>\n",
       "      <th>5</th>\n",
       "      <th>6</th>\n",
       "    </tr>\n",
       "  </thead>\n",
       "  <tbody>\n",
       "    <tr>\n",
       "      <th>0</th>\n",
       "      <td>0.371157</td>\n",
       "      <td>0.289987</td>\n",
       "      <td>0.615121</td>\n",
       "      <td>0.577213</td>\n",
       "      <td>0.520321</td>\n",
       "      <td>1.000000</td>\n",
       "      <td>0.370630</td>\n",
       "    </tr>\n",
       "    <tr>\n",
       "      <th>1</th>\n",
       "      <td>0.000000</td>\n",
       "      <td>0.438891</td>\n",
       "      <td>0.611712</td>\n",
       "      <td>0.579219</td>\n",
       "      <td>0.427948</td>\n",
       "      <td>0.968157</td>\n",
       "      <td>0.219980</td>\n",
       "    </tr>\n",
       "    <tr>\n",
       "      <th>2</th>\n",
       "      <td>0.012849</td>\n",
       "      <td>0.249241</td>\n",
       "      <td>0.470341</td>\n",
       "      <td>0.543494</td>\n",
       "      <td>0.649670</td>\n",
       "      <td>0.937100</td>\n",
       "      <td>0.449884</td>\n",
       "    </tr>\n",
       "    <tr>\n",
       "      <th>3</th>\n",
       "      <td>0.047214</td>\n",
       "      <td>0.391746</td>\n",
       "      <td>0.348981</td>\n",
       "      <td>0.512510</td>\n",
       "      <td>0.624789</td>\n",
       "      <td>0.857293</td>\n",
       "      <td>0.155750</td>\n",
       "    </tr>\n",
       "    <tr>\n",
       "      <th>4</th>\n",
       "      <td>0.063871</td>\n",
       "      <td>0.374948</td>\n",
       "      <td>0.617919</td>\n",
       "      <td>0.570622</td>\n",
       "      <td>0.462292</td>\n",
       "      <td>0.861148</td>\n",
       "      <td>0.060441</td>\n",
       "    </tr>\n",
       "    <tr>\n",
       "      <th>5</th>\n",
       "      <td>0.036597</td>\n",
       "      <td>0.389274</td>\n",
       "      <td>0.730589</td>\n",
       "      <td>0.654777</td>\n",
       "      <td>0.461204</td>\n",
       "      <td>0.906844</td>\n",
       "      <td>0.570957</td>\n",
       "    </tr>\n",
       "    <tr>\n",
       "      <th>6</th>\n",
       "      <td>0.646201</td>\n",
       "      <td>0.802635</td>\n",
       "      <td>0.386686</td>\n",
       "      <td>0.223005</td>\n",
       "      <td>0.089574</td>\n",
       "      <td>0.883495</td>\n",
       "      <td>0.570420</td>\n",
       "    </tr>\n",
       "    <tr>\n",
       "      <th>7</th>\n",
       "      <td>0.033417</td>\n",
       "      <td>0.289088</td>\n",
       "      <td>0.278070</td>\n",
       "      <td>0.398438</td>\n",
       "      <td>0.816276</td>\n",
       "      <td>0.901744</td>\n",
       "      <td>0.070161</td>\n",
       "    </tr>\n",
       "    <tr>\n",
       "      <th>8</th>\n",
       "      <td>0.453122</td>\n",
       "      <td>0.699883</td>\n",
       "      <td>0.688115</td>\n",
       "      <td>0.749892</td>\n",
       "      <td>0.664379</td>\n",
       "      <td>0.894799</td>\n",
       "      <td>0.000000</td>\n",
       "    </tr>\n",
       "    <tr>\n",
       "      <th>9</th>\n",
       "      <td>0.485846</td>\n",
       "      <td>0.538072</td>\n",
       "      <td>0.919905</td>\n",
       "      <td>1.000000</td>\n",
       "      <td>0.848469</td>\n",
       "      <td>0.877972</td>\n",
       "      <td>0.196502</td>\n",
       "    </tr>\n",
       "    <tr>\n",
       "      <th>10</th>\n",
       "      <td>0.351692</td>\n",
       "      <td>0.096433</td>\n",
       "      <td>1.000000</td>\n",
       "      <td>0.973272</td>\n",
       "      <td>0.890939</td>\n",
       "      <td>0.915041</td>\n",
       "      <td>0.142590</td>\n",
       "    </tr>\n",
       "    <tr>\n",
       "      <th>11</th>\n",
       "      <td>0.439342</td>\n",
       "      <td>0.463008</td>\n",
       "      <td>0.546122</td>\n",
       "      <td>0.517657</td>\n",
       "      <td>0.838855</td>\n",
       "      <td>0.633274</td>\n",
       "      <td>0.162625</td>\n",
       "    </tr>\n",
       "    <tr>\n",
       "      <th>12</th>\n",
       "      <td>0.326546</td>\n",
       "      <td>0.492514</td>\n",
       "      <td>0.920261</td>\n",
       "      <td>0.866185</td>\n",
       "      <td>0.624455</td>\n",
       "      <td>0.027390</td>\n",
       "      <td>0.049693</td>\n",
       "    </tr>\n",
       "    <tr>\n",
       "      <th>13</th>\n",
       "      <td>0.364515</td>\n",
       "      <td>0.530492</td>\n",
       "      <td>0.593254</td>\n",
       "      <td>0.654901</td>\n",
       "      <td>0.616172</td>\n",
       "      <td>0.587475</td>\n",
       "      <td>0.068797</td>\n",
       "    </tr>\n",
       "    <tr>\n",
       "      <th>14</th>\n",
       "      <td>0.560659</td>\n",
       "      <td>0.768341</td>\n",
       "      <td>0.365919</td>\n",
       "      <td>0.516289</td>\n",
       "      <td>0.707771</td>\n",
       "      <td>0.000000</td>\n",
       "      <td>0.483213</td>\n",
       "    </tr>\n",
       "    <tr>\n",
       "      <th>15</th>\n",
       "      <td>0.629579</td>\n",
       "      <td>0.765173</td>\n",
       "      <td>0.356244</td>\n",
       "      <td>0.548239</td>\n",
       "      <td>0.536242</td>\n",
       "      <td>0.799414</td>\n",
       "      <td>0.502741</td>\n",
       "    </tr>\n",
       "    <tr>\n",
       "      <th>16</th>\n",
       "      <td>0.520310</td>\n",
       "      <td>0.785903</td>\n",
       "      <td>0.402161</td>\n",
       "      <td>0.452230</td>\n",
       "      <td>0.514840</td>\n",
       "      <td>0.791062</td>\n",
       "      <td>0.365974</td>\n",
       "    </tr>\n",
       "    <tr>\n",
       "      <th>17</th>\n",
       "      <td>0.733342</td>\n",
       "      <td>0.814460</td>\n",
       "      <td>0.888929</td>\n",
       "      <td>0.767973</td>\n",
       "      <td>0.440429</td>\n",
       "      <td>0.685348</td>\n",
       "      <td>0.510385</td>\n",
       "    </tr>\n",
       "    <tr>\n",
       "      <th>18</th>\n",
       "      <td>0.945838</td>\n",
       "      <td>0.732232</td>\n",
       "      <td>0.309786</td>\n",
       "      <td>0.566903</td>\n",
       "      <td>0.607089</td>\n",
       "      <td>0.832124</td>\n",
       "      <td>0.629396</td>\n",
       "    </tr>\n",
       "    <tr>\n",
       "      <th>19</th>\n",
       "      <td>0.301370</td>\n",
       "      <td>0.403289</td>\n",
       "      <td>0.553558</td>\n",
       "      <td>0.720627</td>\n",
       "      <td>0.875474</td>\n",
       "      <td>0.692830</td>\n",
       "      <td>0.681440</td>\n",
       "    </tr>\n",
       "    <tr>\n",
       "      <th>20</th>\n",
       "      <td>1.000000</td>\n",
       "      <td>1.000000</td>\n",
       "      <td>0.321330</td>\n",
       "      <td>0.522723</td>\n",
       "      <td>0.749182</td>\n",
       "      <td>0.467899</td>\n",
       "      <td>0.792207</td>\n",
       "    </tr>\n",
       "    <tr>\n",
       "      <th>21</th>\n",
       "      <td>0.659385</td>\n",
       "      <td>0.866443</td>\n",
       "      <td>0.471394</td>\n",
       "      <td>0.535621</td>\n",
       "      <td>0.637036</td>\n",
       "      <td>0.920878</td>\n",
       "      <td>0.447651</td>\n",
       "    </tr>\n",
       "    <tr>\n",
       "      <th>22</th>\n",
       "      <td>0.510490</td>\n",
       "      <td>0.423606</td>\n",
       "      <td>0.344325</td>\n",
       "      <td>0.241434</td>\n",
       "      <td>0.181769</td>\n",
       "      <td>0.601583</td>\n",
       "      <td>0.483302</td>\n",
       "    </tr>\n",
       "    <tr>\n",
       "      <th>23</th>\n",
       "      <td>0.023378</td>\n",
       "      <td>0.000000</td>\n",
       "      <td>0.530048</td>\n",
       "      <td>0.352765</td>\n",
       "      <td>0.000000</td>\n",
       "      <td>0.871878</td>\n",
       "      <td>0.259454</td>\n",
       "    </tr>\n",
       "    <tr>\n",
       "      <th>24</th>\n",
       "      <td>0.411230</td>\n",
       "      <td>0.659033</td>\n",
       "      <td>0.284361</td>\n",
       "      <td>0.527568</td>\n",
       "      <td>0.862656</td>\n",
       "      <td>0.634425</td>\n",
       "      <td>0.166666</td>\n",
       "    </tr>\n",
       "    <tr>\n",
       "      <th>25</th>\n",
       "      <td>0.306812</td>\n",
       "      <td>0.459746</td>\n",
       "      <td>0.457454</td>\n",
       "      <td>0.441116</td>\n",
       "      <td>0.271684</td>\n",
       "      <td>0.738791</td>\n",
       "      <td>0.369047</td>\n",
       "    </tr>\n",
       "    <tr>\n",
       "      <th>26</th>\n",
       "      <td>0.762055</td>\n",
       "      <td>0.701545</td>\n",
       "      <td>0.459264</td>\n",
       "      <td>0.331528</td>\n",
       "      <td>0.227231</td>\n",
       "      <td>0.674199</td>\n",
       "      <td>0.259204</td>\n",
       "    </tr>\n",
       "    <tr>\n",
       "      <th>27</th>\n",
       "      <td>0.514946</td>\n",
       "      <td>0.473267</td>\n",
       "      <td>0.288229</td>\n",
       "      <td>0.352719</td>\n",
       "      <td>0.314552</td>\n",
       "      <td>0.825322</td>\n",
       "      <td>0.363387</td>\n",
       "    </tr>\n",
       "    <tr>\n",
       "      <th>28</th>\n",
       "      <td>0.392844</td>\n",
       "      <td>0.645645</td>\n",
       "      <td>0.000000</td>\n",
       "      <td>0.000000</td>\n",
       "      <td>0.366441</td>\n",
       "      <td>0.674736</td>\n",
       "      <td>0.369071</td>\n",
       "    </tr>\n",
       "    <tr>\n",
       "      <th>29</th>\n",
       "      <td>0.392844</td>\n",
       "      <td>0.645645</td>\n",
       "      <td>0.000000</td>\n",
       "      <td>0.000000</td>\n",
       "      <td>0.366441</td>\n",
       "      <td>0.674736</td>\n",
       "      <td>0.369071</td>\n",
       "    </tr>\n",
       "    <tr>\n",
       "      <th>30</th>\n",
       "      <td>0.185805</td>\n",
       "      <td>0.256448</td>\n",
       "      <td>0.789178</td>\n",
       "      <td>0.858547</td>\n",
       "      <td>1.000000</td>\n",
       "      <td>0.696612</td>\n",
       "      <td>0.279366</td>\n",
       "    </tr>\n",
       "    <tr>\n",
       "      <th>31</th>\n",
       "      <td>0.384781</td>\n",
       "      <td>0.741036</td>\n",
       "      <td>0.148892</td>\n",
       "      <td>0.436528</td>\n",
       "      <td>0.551251</td>\n",
       "      <td>0.725474</td>\n",
       "      <td>0.286272</td>\n",
       "    </tr>\n",
       "    <tr>\n",
       "      <th>32</th>\n",
       "      <td>0.426180</td>\n",
       "      <td>0.468302</td>\n",
       "      <td>0.560587</td>\n",
       "      <td>0.738546</td>\n",
       "      <td>0.506652</td>\n",
       "      <td>0.697281</td>\n",
       "      <td>0.113496</td>\n",
       "    </tr>\n",
       "    <tr>\n",
       "      <th>33</th>\n",
       "      <td>0.471091</td>\n",
       "      <td>0.552390</td>\n",
       "      <td>0.069259</td>\n",
       "      <td>0.296035</td>\n",
       "      <td>0.589932</td>\n",
       "      <td>0.588030</td>\n",
       "      <td>1.000000</td>\n",
       "    </tr>\n",
       "  </tbody>\n",
       "</table>\n",
       "</div>"
      ],
      "text/plain": [
       "           0         1         2         3         4         5         6\n",
       "0   0.371157  0.289987  0.615121  0.577213  0.520321  1.000000  0.370630\n",
       "1   0.000000  0.438891  0.611712  0.579219  0.427948  0.968157  0.219980\n",
       "2   0.012849  0.249241  0.470341  0.543494  0.649670  0.937100  0.449884\n",
       "3   0.047214  0.391746  0.348981  0.512510  0.624789  0.857293  0.155750\n",
       "4   0.063871  0.374948  0.617919  0.570622  0.462292  0.861148  0.060441\n",
       "5   0.036597  0.389274  0.730589  0.654777  0.461204  0.906844  0.570957\n",
       "6   0.646201  0.802635  0.386686  0.223005  0.089574  0.883495  0.570420\n",
       "7   0.033417  0.289088  0.278070  0.398438  0.816276  0.901744  0.070161\n",
       "8   0.453122  0.699883  0.688115  0.749892  0.664379  0.894799  0.000000\n",
       "9   0.485846  0.538072  0.919905  1.000000  0.848469  0.877972  0.196502\n",
       "10  0.351692  0.096433  1.000000  0.973272  0.890939  0.915041  0.142590\n",
       "11  0.439342  0.463008  0.546122  0.517657  0.838855  0.633274  0.162625\n",
       "12  0.326546  0.492514  0.920261  0.866185  0.624455  0.027390  0.049693\n",
       "13  0.364515  0.530492  0.593254  0.654901  0.616172  0.587475  0.068797\n",
       "14  0.560659  0.768341  0.365919  0.516289  0.707771  0.000000  0.483213\n",
       "15  0.629579  0.765173  0.356244  0.548239  0.536242  0.799414  0.502741\n",
       "16  0.520310  0.785903  0.402161  0.452230  0.514840  0.791062  0.365974\n",
       "17  0.733342  0.814460  0.888929  0.767973  0.440429  0.685348  0.510385\n",
       "18  0.945838  0.732232  0.309786  0.566903  0.607089  0.832124  0.629396\n",
       "19  0.301370  0.403289  0.553558  0.720627  0.875474  0.692830  0.681440\n",
       "20  1.000000  1.000000  0.321330  0.522723  0.749182  0.467899  0.792207\n",
       "21  0.659385  0.866443  0.471394  0.535621  0.637036  0.920878  0.447651\n",
       "22  0.510490  0.423606  0.344325  0.241434  0.181769  0.601583  0.483302\n",
       "23  0.023378  0.000000  0.530048  0.352765  0.000000  0.871878  0.259454\n",
       "24  0.411230  0.659033  0.284361  0.527568  0.862656  0.634425  0.166666\n",
       "25  0.306812  0.459746  0.457454  0.441116  0.271684  0.738791  0.369047\n",
       "26  0.762055  0.701545  0.459264  0.331528  0.227231  0.674199  0.259204\n",
       "27  0.514946  0.473267  0.288229  0.352719  0.314552  0.825322  0.363387\n",
       "28  0.392844  0.645645  0.000000  0.000000  0.366441  0.674736  0.369071\n",
       "29  0.392844  0.645645  0.000000  0.000000  0.366441  0.674736  0.369071\n",
       "30  0.185805  0.256448  0.789178  0.858547  1.000000  0.696612  0.279366\n",
       "31  0.384781  0.741036  0.148892  0.436528  0.551251  0.725474  0.286272\n",
       "32  0.426180  0.468302  0.560587  0.738546  0.506652  0.697281  0.113496\n",
       "33  0.471091  0.552390  0.069259  0.296035  0.589932  0.588030  1.000000"
      ]
     },
     "execution_count": 3,
     "metadata": {},
     "output_type": "execute_result"
    }
   ],
   "source": [
    "predict_set = df.drop(range(0,130))\n",
    "predict_set = predict_set.drop('Target',axis=1)\n",
    "\n",
    "mms = MinMaxScaler()\n",
    "stdsc = StandardScaler()\n",
    "\n",
    "ps_norm = mms.fit_transform(predict_set)\n",
    "ps_std = stdsc.fit_transform(predict_set)\n",
    "\n",
    "pd.DataFrame(ps_norm)"
   ]
  },
  {
   "cell_type": "code",
   "execution_count": 4,
   "id": "18d9b1dd",
   "metadata": {},
   "outputs": [
    {
     "data": {
      "text/plain": [
       "Left Brow Solidity        0\n",
       "Right Brow Solidity       0\n",
       "Left Eye Eccentricity     0\n",
       "Right Eye Eccentricity    0\n",
       "Nose Solidity             0\n",
       "Mouth Eccentricity        0\n",
       "Jawline Solidity          0\n",
       "Target                    0\n",
       "dtype: int64"
      ]
     },
     "execution_count": 4,
     "metadata": {},
     "output_type": "execute_result"
    }
   ],
   "source": [
    "df = df.dropna(axis = 0)\n",
    "df.isnull().sum()"
   ]
  },
  {
   "cell_type": "code",
   "execution_count": 5,
   "id": "5376fd1d",
   "metadata": {},
   "outputs": [],
   "source": [
    "X = df.drop('Target',axis=1).fillna(0) \n",
    "y = df['Target']\n",
    "\n",
    "mms = MinMaxScaler()\n",
    "stdsc = StandardScaler()\n",
    "\n",
    "X_norm = mms.fit_transform(X)\n",
    "X_std = stdsc.fit_transform(X)"
   ]
  },
  {
   "cell_type": "markdown",
   "id": "7d8e5875",
   "metadata": {},
   "source": [
    "## kNN Classifier"
   ]
  },
  {
   "cell_type": "markdown",
   "id": "3decc7a8",
   "metadata": {},
   "source": [
    "### Basic Iteration"
   ]
  },
  {
   "cell_type": "code",
   "execution_count": 6,
   "id": "8adeca63",
   "metadata": {},
   "outputs": [],
   "source": [
    "train_acc = []\n",
    "test_acc = []\n",
    "k = 20\n",
    "neighbors_settings = range(1, k)\n",
    "# model iterating 20 times\n",
    "for i in range(20):\n",
    "\n",
    "    X_train, X_test, y_train, y_test = train_test_split(X_norm,y, stratify=y,\n",
    "                                                    test_size=0.25)\n",
    "\n",
    "\n",
    "    for n_neighbors in neighbors_settings:\n",
    "        knn = KNeighborsClassifier(n_neighbors=n_neighbors)\n",
    "        knn.fit(X_train, y_train)\n",
    "        train_acc.append(knn.score(X_train, y_train))\n",
    "        test_acc.append(knn.score(X_test, y_test))\n",
    "\n",
    "    \n",
    "pass"
   ]
  },
  {
   "cell_type": "code",
   "execution_count": 7,
   "id": "478bbff7",
   "metadata": {},
   "outputs": [],
   "source": [
    "sm = SMOTE()\n",
    "X_smknn, y_smknn = sm.fit_resample(X_train, y_train)"
   ]
  },
  {
   "cell_type": "markdown",
   "id": "1d074e5e",
   "metadata": {},
   "source": [
    "### SMOTE Iteration"
   ]
  },
  {
   "cell_type": "code",
   "execution_count": 8,
   "id": "90556cb5",
   "metadata": {},
   "outputs": [],
   "source": [
    "lahat_training = pd.DataFrame()\n",
    "lahat_test = pd.DataFrame()\n",
    "for seedN in range(1,30,1):\n",
    "    X_train, X_test, y_train, y_test = train_test_split(X_smknn, y_smknn, stratify=y_smknn, \n",
    "                                                        test_size=0.25, random_state=seedN)\n",
    "\n",
    "    training_accuracy = []\n",
    "    test_accuracy = []\n",
    "    neighbors_settings = range(1, 30)\n",
    "\n",
    "    for neighbors in neighbors_settings:   \n",
    "        knn = KNeighborsClassifier(\n",
    "            n_neighbors = neighbors\n",
    "        )  \n",
    "        knn.fit(X_train, y_train)\n",
    "\n",
    "        training_accuracy.append(knn.score(X_train, y_train)) # record training set accuracy\n",
    "        test_accuracy.append(knn.score(X_test, y_test))   # record generalization accuracy\n",
    "    \n",
    "    lahat_training[seedN]=training_accuracy\n",
    "    lahat_test[seedN] = test_accuracy"
   ]
  },
  {
   "cell_type": "code",
   "execution_count": 9,
   "id": "0967bccb",
   "metadata": {},
   "outputs": [
    {
     "name": "stdout",
     "output_type": "stream",
     "text": [
      "Highest Average Test Set Achieved = 0.774955\n",
      "Best n_neighbors Parameters = 1\n"
     ]
    },
    {
     "data": {
      "image/png": "[encoded data removed]",
      "text/plain": [
       "<Figure size 1080x432 with 1 Axes>"
      ]
     },
     "metadata": {
      "needs_background": "light"
     },
     "output_type": "display_data"
    }
   ],
   "source": [
    "fig = plt.figure(figsize=(15, 6))\n",
    "plt.errorbar(neighbors_settings, lahat_training.mean(axis=1),\n",
    "             yerr=lahat_training.var(axis=1), label=\"training accuracy\")\n",
    "plt.errorbar(neighbors_settings, lahat_test.mean(axis=1),\n",
    "             yerr=lahat_test.std(axis=1)/3, label=\"test accuracy\")\n",
    "plt.ylabel(\"Accuracy\")\n",
    "plt.xlabel(\"n_neigbors\")\n",
    "plt.legend()\n",
    "\n",
    "bestneighbors=np.argmax(lahat_test.mean(axis=1))+1\n",
    "print(\"Highest Average Test Set Achieved = %f\" % np.amax(lahat_test.mean(axis=1)))\n",
    "print(\"Best n_neighbors Parameters = %d\" %bestneighbors )"
   ]
  },
  {
   "cell_type": "code",
   "execution_count": 10,
   "id": "3b4fc834",
   "metadata": {},
   "outputs": [
    {
     "name": "stdout",
     "output_type": "stream",
     "text": [
      "Confusion Matrix\n"
     ]
    },
    {
     "data": {
      "image/png": "[encoded data removed]",
      "text/plain": [
       "<Figure size 432x288 with 2 Axes>"
      ]
     },
     "metadata": {
      "needs_background": "light"
     },
     "output_type": "display_data"
    },
    {
     "name": "stdout",
     "output_type": "stream",
     "text": [
      "Classification Report\n",
      "              precision    recall  f1-score   support\n",
      "\n",
      "         0.0       1.00      1.00      1.00        75\n",
      "         1.0       1.00      1.00      1.00        75\n",
      "\n",
      "    accuracy                           1.00       150\n",
      "   macro avg       1.00      1.00      1.00       150\n",
      "weighted avg       1.00      1.00      1.00       150\n",
      "\n",
      "Accuracy: 100.0 %\n"
     ]
    }
   ],
   "source": [
    "knn = KNeighborsClassifier(n_neighbors=1).fit(X_smknn,y_smknn)\n",
    "\n",
    "print('Confusion Matrix')\n",
    "conf=confusion_matrix(y_smknn, np.round(knn.predict(X_smknn) ) )     \n",
    "sns.heatmap(conf, annot=True, cmap='YlOrBr')\n",
    "plt.show()\n",
    "\n",
    "print('Classification Report')\n",
    "classrep=classification_report(y_smknn, np.round(knn.predict(X_smknn)))\n",
    "print(classrep)\n",
    "\n",
    "\n",
    "accuracy = round(accuracy_score(y_smknn, np.round(knn.predict(X_smknn))) * 100,2)\n",
    "print('Accuracy:', accuracy,'%')"
   ]
  },
  {
   "cell_type": "markdown",
   "id": "f362f608",
   "metadata": {},
   "source": [
    "## Decision Tree"
   ]
  },
  {
   "cell_type": "markdown",
   "id": "8713aa9e",
   "metadata": {},
   "source": [
    "### MAIN Iteration"
   ]
  },
  {
   "cell_type": "code",
   "execution_count": 11,
   "id": "0d2b996d",
   "metadata": {},
   "outputs": [],
   "source": [
    "lahat_training = pd.DataFrame()\n",
    "lahat_test = pd.DataFrame()\n",
    "for seedN in range(1,20,1):\n",
    "    X_train, X_test, y_train, y_test = train_test_split(X_norm, y, stratify=y, \n",
    "                                                        test_size=0.25, random_state=seedN)\n",
    "\n",
    "    training_accuracy = []\n",
    "    test_accuracy = []\n",
    "    max_depth_settings = range(1, 50) # try n_neighbors from 1 to 50\n",
    "\n",
    "    for depth in max_depth_settings:   \n",
    "        tree = DecisionTreeClassifier(\n",
    "            max_depth = depth,\n",
    "            min_samples_leaf = 4,\n",
    "            max_features = 'auto',\n",
    "            random_state = seedN\n",
    "        )\n",
    "        tree.fit(X_train, y_train)\n",
    "\n",
    "        training_accuracy.append(tree.score(X_train, y_train)) # record training set accuracy\n",
    "        test_accuracy.append(tree.score(X_test, y_test))   # record generalization accuracy\n",
    "    \n",
    "    lahat_training[seedN]=training_accuracy\n",
    "    lahat_test[seedN] = test_accuracy"
   ]
  },
  {
   "cell_type": "code",
   "execution_count": 12,
   "id": "da8abc54",
   "metadata": {},
   "outputs": [],
   "source": [
    "sm = SMOTE()\n",
    "X_smdtc, y_smdtc = sm.fit_resample(X_train, y_train)"
   ]
  },
  {
   "cell_type": "markdown",
   "id": "d5c856de",
   "metadata": {},
   "source": [
    "### SMOTE Iteration"
   ]
  },
  {
   "cell_type": "code",
   "execution_count": 13,
   "id": "f4ff8afe",
   "metadata": {},
   "outputs": [],
   "source": [
    "lahat_training = pd.DataFrame()\n",
    "lahat_test = pd.DataFrame()\n",
    "for seedN in range(1,30,1):\n",
    "    X_train, X_test, y_train, y_test = train_test_split(X_smdtc,y_smdtc, stratify=y_smdtc, \n",
    "                                                        test_size=0.25, random_state=seedN)\n",
    "\n",
    "    training_accuracy = []\n",
    "    test_accuracy = []\n",
    "    max_depth_settings = range(1, 50) # try n_neighbors from 1 to 50\n",
    "\n",
    "    for depth in max_depth_settings:   \n",
    "        tree = DecisionTreeClassifier(\n",
    "            max_depth = depth,\n",
    "            min_samples_leaf = 4,\n",
    "            max_features = 'auto',\n",
    "            random_state = seedN\n",
    "        )\n",
    "        tree.fit(X_train, y_train)\n",
    "\n",
    "        training_accuracy.append(tree.score(X_train, y_train)) # record training set accuracy\n",
    "        test_accuracy.append(tree.score(X_test, y_test))   # record generalization accuracy\n",
    "    \n",
    "    lahat_training[seedN]=training_accuracy\n",
    "    lahat_test[seedN] = test_accuracy"
   ]
  },
  {
   "cell_type": "code",
   "execution_count": 14,
   "id": "1fbd8575",
   "metadata": {
    "scrolled": false
   },
   "outputs": [
    {
     "name": "stdout",
     "output_type": "stream",
     "text": [
      "Highest Average Test Set Achieved = 0.676951\n",
      "Best max_depth Parameters = 6\n"
     ]
    },
    {
     "data": {
      "image/png": "[encoded data removed]",
      "text/plain": [
       "<Figure size 1080x432 with 1 Axes>"
      ]
     },
     "metadata": {
      "needs_background": "light"
     },
     "output_type": "display_data"
    }
   ],
   "source": [
    "fig = plt.figure(figsize=(15, 6))\n",
    "plt.errorbar(max_depth_settings, lahat_training.mean(axis=1),\n",
    "             yerr=lahat_training.var(axis=1), label=\"training accuracy\")\n",
    "plt.errorbar(max_depth_settings, lahat_test.mean(axis=1),\n",
    "             yerr=lahat_test.std(axis=1)/3, label=\"test accuracy\")\n",
    "plt.ylabel(\"Accuracy\")\n",
    "plt.xlabel(\"max_depth\")\n",
    "plt.legend()\n",
    "\n",
    "bestdepth=np.argmax(lahat_test.mean(axis=1))+1\n",
    "print(\"Highest Average Test Set Achieved = %f\" % np.amax(lahat_test.mean(axis=1)))\n",
    "print(\"Best max_depth Parameters = %d\" %bestdepth )"
   ]
  },
  {
   "cell_type": "code",
   "execution_count": 15,
   "id": "41d5b45d",
   "metadata": {},
   "outputs": [
    {
     "name": "stdout",
     "output_type": "stream",
     "text": [
      "Confusion Matrix\n"
     ]
    },
    {
     "data": {
      "image/png": "[encoded data removed]",
      "text/plain": [
       "<Figure size 432x288 with 2 Axes>"
      ]
     },
     "metadata": {
      "needs_background": "light"
     },
     "output_type": "display_data"
    },
    {
     "name": "stdout",
     "output_type": "stream",
     "text": [
      "Classification Report\n",
      "              precision    recall  f1-score   support\n",
      "\n",
      "         0.0       1.00      1.00      1.00        75\n",
      "         1.0       1.00      1.00      1.00        75\n",
      "\n",
      "    accuracy                           1.00       150\n",
      "   macro avg       1.00      1.00      1.00       150\n",
      "weighted avg       1.00      1.00      1.00       150\n",
      "\n",
      "Accuracy: 100.0 %\n"
     ]
    }
   ],
   "source": [
    "dtc = DecisionTreeClassifier().fit(X_smdtc,y_smdtc)\n",
    "    \n",
    "print('Confusion Matrix')\n",
    "conf=confusion_matrix(y_smdtc, np.round(dtc.predict(X_smdtc) ) )     \n",
    "sns.heatmap(conf, annot=True, cmap=\"YlOrBr\")\n",
    "plt.show()\n",
    "\n",
    "print('Classification Report')\n",
    "classrep=classification_report(y_smdtc, np.round(dtc.predict(X_smdtc)))\n",
    "print(classrep)\n",
    "\n",
    "\n",
    "accuracy = round(accuracy_score(y_smdtc, np.round(dtc.predict(X_smdtc))) * 100,2)\n",
    "print('Accuracy:', accuracy,'%')"
   ]
  },
  {
   "cell_type": "code",
   "execution_count": 16,
   "id": "f4313ebc",
   "metadata": {
    "scrolled": true
   },
   "outputs": [
    {
     "data": {
      "image/png": "[encoded data removed]",
      "text/plain": [
       "<Figure size 432x288 with 1 Axes>"
      ]
     },
     "metadata": {
      "needs_background": "light"
     },
     "output_type": "display_data"
    }
   ],
   "source": [
    "def plot_feature_importances_upcat(model):\n",
    "    n_features=X.shape[1]\n",
    "    plt.barh(range(n_features), model.feature_importances_, align='center')\n",
    "    plt.yticks(np.arange(n_features), X)\n",
    "    plt.xlabel(\"Feature importance\")\n",
    "    plt.ylabel(\"Feature\")\n",
    "    plt.ylim(-1,n_features)\n",
    "    \n",
    "plot_feature_importances_upcat(tree)"
   ]
  },
  {
   "cell_type": "markdown",
   "id": "4306205b",
   "metadata": {},
   "source": [
    "## Random Forest"
   ]
  },
  {
   "cell_type": "markdown",
   "id": "28883956",
   "metadata": {},
   "source": [
    "### Main Iteration"
   ]
  },
  {
   "cell_type": "code",
   "execution_count": 17,
   "id": "7691a8ec",
   "metadata": {},
   "outputs": [],
   "source": [
    "lahat_training = pd.DataFrame()\n",
    "lahat_test = pd.DataFrame()\n",
    "for seedN in range(1,20,1):\n",
    "    X_train, X_test, y_train, y_test = train_test_split(X_norm, y, stratify=y, \n",
    "                                                        test_size=0.25, random_state=seedN)\n",
    "\n",
    "    training_accuracy = []\n",
    "    test_accuracy = []\n",
    "    estimators_settings = range(1, 50)\n",
    "\n",
    "    for estimators in estimators_settings:   \n",
    "        forest = RandomForestClassifier(\n",
    "            n_estimators = estimators,\n",
    "            max_depth = 4,\n",
    "            min_samples_leaf = 2,\n",
    "            random_state = seedN\n",
    "        )  \n",
    "        forest.fit(X_train, y_train)\n",
    "\n",
    "        training_accuracy.append(forest.score(X_train, y_train)) # record training set accuracy\n",
    "        test_accuracy.append(forest.score(X_test, y_test))   # record generalization accuracy\n",
    "    \n",
    "    lahat_training[seedN]=training_accuracy\n",
    "    lahat_test[seedN] = test_accuracy"
   ]
  },
  {
   "cell_type": "code",
   "execution_count": 18,
   "id": "6f8a0c78",
   "metadata": {},
   "outputs": [],
   "source": [
    "sm = SMOTE()\n",
    "X_smforest, y_smforest = sm.fit_resample(X_train, y_train)"
   ]
  },
  {
   "cell_type": "markdown",
   "id": "b1781528",
   "metadata": {},
   "source": [
    "### SMOTE Iteration"
   ]
  },
  {
   "cell_type": "code",
   "execution_count": 19,
   "id": "87783055",
   "metadata": {},
   "outputs": [],
   "source": [
    "lahat_training = pd.DataFrame()\n",
    "lahat_test = pd.DataFrame()\n",
    "for seedN in range(1,30,1):\n",
    "    X_train, X_test, y_train, y_test = train_test_split(X_smforest, y_smforest, stratify=y_smforest, \n",
    "                                                        test_size=0.25, random_state=seedN)\n",
    "\n",
    "    training_accuracy = []\n",
    "    test_accuracy = []\n",
    "    estimators_settings = range(1, 50)\n",
    "\n",
    "    for estimators in estimators_settings:   \n",
    "        forest = RandomForestClassifier(\n",
    "            n_estimators = estimators,\n",
    "            max_depth = 4,\n",
    "            min_samples_leaf = 2,\n",
    "            random_state = seedN\n",
    "        )  \n",
    "        forest.fit(X_train, y_train)\n",
    "\n",
    "        training_accuracy.append(forest.score(X_train, y_train)) # record training set accuracy\n",
    "        test_accuracy.append(forest.score(X_test, y_test))   # record generalization accuracy\n",
    "    \n",
    "    lahat_training[seedN]=training_accuracy\n",
    "    lahat_test[seedN] = test_accuracy"
   ]
  },
  {
   "cell_type": "code",
   "execution_count": 20,
   "id": "2269cbed",
   "metadata": {
    "scrolled": false
   },
   "outputs": [
    {
     "name": "stdout",
     "output_type": "stream",
     "text": [
      "Highest Average Test Set Accuracy Achieved = 0.734120\n",
      "Best n_estimators Parameter = 47\n"
     ]
    },
    {
     "data": {
      "image/png": "[encoded data removed]",
      "text/plain": [
       "<Figure size 1080x432 with 1 Axes>"
      ]
     },
     "metadata": {
      "needs_background": "light"
     },
     "output_type": "display_data"
    }
   ],
   "source": [
    "fig = plt.figure(figsize=(15, 6))\n",
    "plt.errorbar(estimators_settings, lahat_training.mean(axis=1),\n",
    "             yerr=lahat_training.var(axis=1), label=\"training accuracy\")\n",
    "plt.errorbar(estimators_settings, lahat_test.mean(axis=1),\n",
    "             yerr=lahat_test.std(axis=1)/3, label=\"test accuracy\")\n",
    "\n",
    "plt.ylabel(\"Accuracy\")\n",
    "plt.xlabel(\"n_estimators\")\n",
    "plt.legend()\n",
    "plt.grid()\n",
    "\n",
    "bestestimator=np.argmax(lahat_test.mean(axis=1))+1\n",
    "print(\"Highest Average Test Set Accuracy Achieved = %f\" % np.amax(lahat_test.mean(axis=1)))\n",
    "print(\"Best n_estimators Parameter = %d\" %bestestimator )"
   ]
  },
  {
   "cell_type": "code",
   "execution_count": 21,
   "id": "6a0c7ac2",
   "metadata": {},
   "outputs": [
    {
     "name": "stdout",
     "output_type": "stream",
     "text": [
      "Confusion Matrix\n"
     ]
    },
    {
     "data": {
      "image/png": "[encoded data removed]",
      "text/plain": [
       "<Figure size 432x288 with 2 Axes>"
      ]
     },
     "metadata": {
      "needs_background": "light"
     },
     "output_type": "display_data"
    },
    {
     "name": "stdout",
     "output_type": "stream",
     "text": [
      "Classification Report\n",
      "              precision    recall  f1-score   support\n",
      "\n",
      "         0.0       1.00      1.00      1.00        75\n",
      "         1.0       1.00      1.00      1.00        75\n",
      "\n",
      "    accuracy                           1.00       150\n",
      "   macro avg       1.00      1.00      1.00       150\n",
      "weighted avg       1.00      1.00      1.00       150\n",
      "\n",
      "Accuracy: 100.0 %\n"
     ]
    }
   ],
   "source": [
    "rfc = RandomForestClassifier().fit(X_smforest,y_smforest)\n",
    "    \n",
    "print('Confusion Matrix')\n",
    "conf=confusion_matrix(y_smforest, np.round(rfc.predict(X_smforest) ) )     \n",
    "sns.heatmap(conf, annot=True, cmap=\"YlOrBr\")\n",
    "plt.show()\n",
    "\n",
    "print('Classification Report')\n",
    "classrep=classification_report(y_smforest, np.round(rfc.predict(X_smforest)))\n",
    "print(classrep)\n",
    "\n",
    "\n",
    "accuracy = round(accuracy_score(y_smforest, np.round(rfc.predict(X_smforest))) * 100,2)\n",
    "print('Accuracy:', accuracy,'%')"
   ]
  },
  {
   "cell_type": "code",
   "execution_count": 22,
   "id": "640a0a45",
   "metadata": {},
   "outputs": [
    {
     "data": {
      "image/png": "[encoded data removed]",
      "text/plain": [
       "<Figure size 432x288 with 1 Axes>"
      ]
     },
     "metadata": {
      "needs_background": "light"
     },
     "output_type": "display_data"
    }
   ],
   "source": [
    "plot_feature_importances_upcat(forest)"
   ]
  },
  {
   "cell_type": "code",
   "execution_count": 23,
   "id": "cd6a5391",
   "metadata": {},
   "outputs": [
    {
     "name": "stdout",
     "output_type": "stream",
     "text": [
      "Proportion Chance Criterion = 65.33727810650888%\n",
      "1.25 Proportion Chance Criterion = 81.6715976331361%\n"
     ]
    }
   ],
   "source": [
    "pcc=(df.groupby('Target').size()/df.groupby('Target').size().sum())**2\n",
    "print(\"Proportion Chance Criterion = {}%\".format(100*pcc.sum()))\n",
    "print(\"1.25 Proportion Chance Criterion = {}%\".format(1.25*100*pcc.sum()))"
   ]
  },
  {
   "cell_type": "markdown",
   "id": "f5c7fec2",
   "metadata": {},
   "source": [
    "# MAIN PREDICTION"
   ]
  },
  {
   "cell_type": "code",
   "execution_count": 24,
   "id": "ff5864d5",
   "metadata": {},
   "outputs": [
    {
     "name": "stdout",
     "output_type": "stream",
     "text": [
      "Duterte: 50.024771 %\n",
      "Aquino: 71.392651 %\n",
      "Ramos: 57.919667 %\n",
      "Estrada 77.559173 %\n",
      "\n",
      "Marcos: 54.868618999999995 %\n",
      "Robredo: 50.172522 %\n",
      "Go: 46.211662 %\n",
      "Abella: 25.321462 %\n",
      "Pacquiao: 22.181327 %\n",
      "Moreno: 22.662013 %\n"
     ]
    }
   ],
   "source": [
    "def listToString(s): \n",
    "    str1 = \"\" \n",
    "    for ele in s: \n",
    "        str1 += ele  \n",
    "    return str1 \n",
    "\n",
    "def predict_win(X):\n",
    "    ynew = forest.predict_proba(X)\n",
    "    prob_output = ynew[0]\n",
    "    ylist = listToString(str(prob_output))\n",
    "    ysplit = ylist.split()\n",
    "    score = ysplit[1]\n",
    "    return float(score[:-1])*100\n",
    "\n",
    "RDuterte = pd.DataFrame(X_norm).iloc[108:115]\n",
    "FRamos = pd.DataFrame(X_norm).iloc[5:10]\n",
    "JEstrada = pd.DataFrame(X_norm).iloc[42:49]\n",
    "BAquino = pd.DataFrame(X_norm).iloc[80:87]\n",
    "\n",
    "BGo = pd.DataFrame(ps_norm).iloc[0:6]\n",
    "EAbella = pd.DataFrame(ps_norm).iloc[6:11]\n",
    "BMarcos = pd.DataFrame(ps_norm).iloc[11:17]\n",
    "MPacquiao = pd.DataFrame(ps_norm).iloc[17:22]\n",
    "IMoreno = pd.DataFrame(ps_norm).iloc[22:27]\n",
    "LRobredo = pd.DataFrame(ps_norm).iloc[27:33]\n",
    "\n",
    "print(\"Duterte:\",predict_win(RDuterte),\"%\")\n",
    "print(\"Aquino:\",predict_win(BAquino),\"%\")\n",
    "print(\"Ramos:\",predict_win(FRamos),\"%\")\n",
    "print(\"Estrada\",predict_win(JEstrada),\"%\")\n",
    "print()\n",
    "print(\"Marcos:\",predict_win(BMarcos),\"%\")\n",
    "print(\"Robredo:\",predict_win(LRobredo),\"%\")\n",
    "print(\"Go:\",predict_win(BGo),\"%\")\n",
    "print(\"Abella:\",predict_win(EAbella),\"%\")\n",
    "print(\"Pacquiao:\",predict_win(MPacquiao),\"%\")\n",
    "print(\"Moreno:\",predict_win(IMoreno),\"%\")"
   ]
  },
  {
   "cell_type": "code",
   "execution_count": null,
   "id": "fc3a1806",
   "metadata": {},
   "outputs": [],
   "source": []
  }
 ],
 "metadata": {
  "kernelspec": {
   "display_name": "Python 3",
   "language": "python",
   "name": "python3"
  },
  "language_info": {
   "codemirror_mode": {
    "name": "ipython",
    "version": 3
   },
   "file_extension": ".py",
   "mimetype": "text/x-python",
   "name": "python",
   "nbconvert_exporter": "python",
   "pygments_lexer": "ipython3",
   "version": "3.8.10"
  }
 },
 "nbformat": 4,
 "nbformat_minor": 5
}
